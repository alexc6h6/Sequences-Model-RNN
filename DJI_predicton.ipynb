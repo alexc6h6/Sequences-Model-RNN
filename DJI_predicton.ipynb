{
  "nbformat": 4,
  "nbformat_minor": 0,
  "metadata": {
    "colab": {
      "name": "*DJI_predicton.ipynb",
      "provenance": [],
      "collapsed_sections": [],
      "authorship_tag": "ABX9TyMfdD1sIsRfVeLp2v2tOC/5",
      "include_colab_link": true
    },
    "kernelspec": {
      "name": "python3",
      "display_name": "Python 3"
    },
    "accelerator": "GPU"
  },
  "cells": [
    {
      "cell_type": "markdown",
      "metadata": {
        "id": "view-in-github",
        "colab_type": "text"
      },
      "source": [
        "<a href=\"https://colab.research.google.com/github/alexc6h6/Sequences-Model-RNN/blob/master/DJI_predicton.ipynb\" target=\"_parent\"><img src=\"https://colab.research.google.com/assets/colab-badge.svg\" alt=\"Open In Colab\"/></a>"
      ]
    },
    {
      "cell_type": "code",
      "metadata": {
        "id": "J7k-TIt3Xy2-",
        "colab_type": "code",
        "colab": {
          "base_uri": "https://localhost:8080/",
          "height": 34
        },
        "outputId": "959a5934-28e6-4b70-dc42-4a435a64e10c"
      },
      "source": [
        "from google.colab import drive\n",
        "import pandas as pd\n",
        "import numpy as np\n",
        "import matplotlib.pyplot as plt\n",
        "import tensorflow as tf\n",
        "from tensorflow.keras.models import Sequential\n",
        "from tensorflow.keras.layers import Conv1D, LSTM, Bidirectional, Dense, Activation, BatchNormalization, Dropout, Lambda, LayerNormalization\n",
        "from tensorflow.keras.utils import plot_model\n",
        "from tensorflow.keras.callbacks import ReduceLROnPlateau\n",
        "from tensorflow.keras import regularizers\n",
        "print(tf.__version__)\n"
      ],
      "execution_count": 1,
      "outputs": [
        {
          "output_type": "stream",
          "text": [
            "2.2.0\n"
          ],
          "name": "stdout"
        }
      ]
    },
    {
      "cell_type": "code",
      "metadata": {
        "id": "YcxdCIylZ8Cn",
        "colab_type": "code",
        "colab": {}
      },
      "source": [
        "#!pip install --upgrade tensorflow\n"
      ],
      "execution_count": 2,
      "outputs": []
    },
    {
      "cell_type": "code",
      "metadata": {
        "id": "EBHRen5O81G6",
        "colab_type": "code",
        "colab": {
          "base_uri": "https://localhost:8080/",
          "height": 51
        },
        "outputId": "56ae8813-5cd2-4efa-edd0-640f5374704c"
      },
      "source": [
        "drive.mount('/content/drive/')\n",
        "\n",
        "!ls '/content/drive/My Drive/DJI.csv'\n"
      ],
      "execution_count": 3,
      "outputs": [
        {
          "output_type": "stream",
          "text": [
            "Drive already mounted at /content/drive/; to attempt to forcibly remount, call drive.mount(\"/content/drive/\", force_remount=True).\n",
            "'/content/drive/My Drive/DJI.csv'\n"
          ],
          "name": "stdout"
        }
      ]
    },
    {
      "cell_type": "code",
      "metadata": {
        "id": "8mOzBWz7YQBe",
        "colab_type": "code",
        "colab": {}
      },
      "source": [
        "data = pd.read_csv('/content/drive/My Drive/DJI.csv')\n",
        "\n",
        "data['Up'] = np.abs(data['Close']-data['High'])\n",
        "data['Down'] = np.abs(data['Close'] - data['Low'])\n"
      ],
      "execution_count": 4,
      "outputs": []
    },
    {
      "cell_type": "code",
      "metadata": {
        "id": "Aatr4eWmrHnl",
        "colab_type": "code",
        "colab": {}
      },
      "source": [
        "data = data.iloc[-2000:]"
      ],
      "execution_count": 5,
      "outputs": []
    },
    {
      "cell_type": "code",
      "metadata": {
        "id": "i7YU65aK9ELD",
        "colab_type": "code",
        "colab": {
          "base_uri": "https://localhost:8080/",
          "height": 204
        },
        "outputId": "dd79bd7f-00ae-4f79-b08f-9f441bb62060"
      },
      "source": [
        "data.head()"
      ],
      "execution_count": 6,
      "outputs": [
        {
          "output_type": "execute_result",
          "data": {
            "text/html": [
              "<div>\n",
              "<style scoped>\n",
              "    .dataframe tbody tr th:only-of-type {\n",
              "        vertical-align: middle;\n",
              "    }\n",
              "\n",
              "    .dataframe tbody tr th {\n",
              "        vertical-align: top;\n",
              "    }\n",
              "\n",
              "    .dataframe thead th {\n",
              "        text-align: right;\n",
              "    }\n",
              "</style>\n",
              "<table border=\"1\" class=\"dataframe\">\n",
              "  <thead>\n",
              "    <tr style=\"text-align: right;\">\n",
              "      <th></th>\n",
              "      <th>Date</th>\n",
              "      <th>Open</th>\n",
              "      <th>High</th>\n",
              "      <th>Low</th>\n",
              "      <th>Close</th>\n",
              "      <th>Adj Close</th>\n",
              "      <th>Volume</th>\n",
              "      <th>Up</th>\n",
              "      <th>Down</th>\n",
              "    </tr>\n",
              "  </thead>\n",
              "  <tbody>\n",
              "    <tr>\n",
              "      <th>6919</th>\n",
              "      <td>2012-07-06</td>\n",
              "      <td>12889.400391</td>\n",
              "      <td>12889.400391</td>\n",
              "      <td>12702.990234</td>\n",
              "      <td>12772.469727</td>\n",
              "      <td>12772.469727</td>\n",
              "      <td>96760000</td>\n",
              "      <td>116.930664</td>\n",
              "      <td>69.479493</td>\n",
              "    </tr>\n",
              "    <tr>\n",
              "      <th>6920</th>\n",
              "      <td>2012-07-09</td>\n",
              "      <td>12772.019531</td>\n",
              "      <td>12772.019531</td>\n",
              "      <td>12686.570313</td>\n",
              "      <td>12736.290039</td>\n",
              "      <td>12736.290039</td>\n",
              "      <td>100150000</td>\n",
              "      <td>35.729492</td>\n",
              "      <td>49.719726</td>\n",
              "    </tr>\n",
              "    <tr>\n",
              "      <th>6921</th>\n",
              "      <td>2012-07-10</td>\n",
              "      <td>12733.870117</td>\n",
              "      <td>12830.290039</td>\n",
              "      <td>12606.910156</td>\n",
              "      <td>12653.120117</td>\n",
              "      <td>12653.120117</td>\n",
              "      <td>114760000</td>\n",
              "      <td>177.169922</td>\n",
              "      <td>46.209961</td>\n",
              "    </tr>\n",
              "    <tr>\n",
              "      <th>6922</th>\n",
              "      <td>2012-07-11</td>\n",
              "      <td>12653.040039</td>\n",
              "      <td>12661.969727</td>\n",
              "      <td>12534.330078</td>\n",
              "      <td>12604.530273</td>\n",
              "      <td>12604.530273</td>\n",
              "      <td>128420000</td>\n",
              "      <td>57.439454</td>\n",
              "      <td>70.200195</td>\n",
              "    </tr>\n",
              "    <tr>\n",
              "      <th>6923</th>\n",
              "      <td>2012-07-12</td>\n",
              "      <td>12602.709961</td>\n",
              "      <td>12630.639648</td>\n",
              "      <td>12492.250000</td>\n",
              "      <td>12573.269531</td>\n",
              "      <td>12573.269531</td>\n",
              "      <td>142760000</td>\n",
              "      <td>57.370117</td>\n",
              "      <td>81.019531</td>\n",
              "    </tr>\n",
              "  </tbody>\n",
              "</table>\n",
              "</div>"
            ],
            "text/plain": [
              "            Date          Open          High  ...     Volume          Up       Down\n",
              "6919  2012-07-06  12889.400391  12889.400391  ...   96760000  116.930664  69.479493\n",
              "6920  2012-07-09  12772.019531  12772.019531  ...  100150000   35.729492  49.719726\n",
              "6921  2012-07-10  12733.870117  12830.290039  ...  114760000  177.169922  46.209961\n",
              "6922  2012-07-11  12653.040039  12661.969727  ...  128420000   57.439454  70.200195\n",
              "6923  2012-07-12  12602.709961  12630.639648  ...  142760000   57.370117  81.019531\n",
              "\n",
              "[5 rows x 9 columns]"
            ]
          },
          "metadata": {
            "tags": []
          },
          "execution_count": 6
        }
      ]
    },
    {
      "cell_type": "code",
      "metadata": {
        "id": "B2m1i7L69ERe",
        "colab_type": "code",
        "colab": {
          "base_uri": "https://localhost:8080/",
          "height": 34
        },
        "outputId": "a85312a8-d4c6-4ee1-a926-bf434bcbf221"
      },
      "source": [
        "data.shape"
      ],
      "execution_count": 7,
      "outputs": [
        {
          "output_type": "execute_result",
          "data": {
            "text/plain": [
              "(2000, 9)"
            ]
          },
          "metadata": {
            "tags": []
          },
          "execution_count": 7
        }
      ]
    },
    {
      "cell_type": "code",
      "metadata": {
        "id": "IYu-4e9a_9NP",
        "colab_type": "code",
        "colab": {
          "base_uri": "https://localhost:8080/",
          "height": 585
        },
        "outputId": "e31730f2-bfd1-406e-b556-c8ab1a7ccfaa"
      },
      "source": [
        "fig = plt.figure(figsize = (20, 10))\n",
        "plt.plot(data['Close'])\n",
        "plt.show()"
      ],
      "execution_count": 8,
      "outputs": [
        {
          "output_type": "display_data",
          "data": {
            "image/png": "[encoded data removed]",
            "text/plain": [
              "<Figure size 1440x720 with 1 Axes>"
            ]
          },
          "metadata": {
            "tags": [],
            "needs_background": "light"
          }
        }
      ]
    },
    {
      "cell_type": "code",
      "metadata": {
        "id": "PIXt42Ao_k5r",
        "colab_type": "code",
        "colab": {}
      },
      "source": [
        "points = data[['Open', 'High', 'Low', 'Close', 'Up', 'Down']].values.astype('float32')"
      ],
      "execution_count": 9,
      "outputs": []
    },
    {
      "cell_type": "code",
      "metadata": {
        "id": "yiDetdzdFRHc",
        "colab_type": "code",
        "colab": {
          "base_uri": "https://localhost:8080/",
          "height": 34
        },
        "outputId": "3eb920ea-4b2f-4bdc-eb39-2316e5926689"
      },
      "source": [
        "from sklearn.preprocessing import StandardScaler\n",
        "\n",
        "sc = StandardScaler()\n",
        "sc_points = sc.fit_transform(points)\n",
        "\n",
        "print(sc_points[0])"
      ],
      "execution_count": 10,
      "outputs": [
        {
          "output_type": "stream",
          "text": [
            "[-1.5685586  -1.5821836  -1.5969963  -1.5963866   0.15697235 -0.28730607]\n"
          ],
          "name": "stdout"
        }
      ]
    },
    {
      "cell_type": "code",
      "metadata": {
        "id": "gVsk2Fev4rjg",
        "colab_type": "code",
        "colab": {}
      },
      "source": [
        "close_point = data['Close'].values.reshape(-1, 1)/30000.0"
      ],
      "execution_count": 16,
      "outputs": []
    },
    {
      "cell_type": "code",
      "metadata": {
        "id": "334W4hIEVLR_",
        "colab_type": "code",
        "colab": {
          "base_uri": "https://localhost:8080/",
          "height": 51
        },
        "outputId": "d54d4428-d48b-4240-a3f5-59a89663a296"
      },
      "source": [
        "points = np.concatenate([sc_points, close_point], axis = 1)\n",
        "\n",
        "print(points[0])"
      ],
      "execution_count": 17,
      "outputs": [
        {
          "output_type": "stream",
          "text": [
            "[-1.56855857 -1.5821836  -1.59699631 -1.59638655  0.15697235 -0.28730607\n",
            "  0.42574899]\n"
          ],
          "name": "stdout"
        }
      ]
    },
    {
      "cell_type": "code",
      "metadata": {
        "id": "f9EX6kL6-ilr",
        "colab_type": "code",
        "colab": {
          "base_uri": "https://localhost:8080/",
          "height": 51
        },
        "outputId": "e808abe9-0207-449a-ac02-b6b188ca1c3b"
      },
      "source": [
        "split = len(points) - 60\n",
        "\n",
        "print(split)\n",
        "\n",
        "train_points = points[:split]\n",
        "val_points = points[split:, :-1] \n",
        "\n",
        "print(train_points.shape, val_points.shape)"
      ],
      "execution_count": 18,
      "outputs": [
        {
          "output_type": "stream",
          "text": [
            "1940\n",
            "(1940, 7) (60, 6)\n"
          ],
          "name": "stdout"
        }
      ]
    },
    {
      "cell_type": "markdown",
      "metadata": {
        "id": "zLzD3w7-XsmI",
        "colab_type": "text"
      },
      "source": [
        "![alt text](http://1fykyq3mdn5r21tpna3wkdyi-wpengine.netdna-ssl.com/wp-content/uploads/2017/06/image2-e1496957521819.png)"
      ]
    },
    {
      "cell_type": "code",
      "metadata": {
        "id": "LDnyQs9EAxV1",
        "colab_type": "code",
        "colab": {}
      },
      "source": [
        "#generate the sliding window datasets\n",
        "#the latest 30 days are the input and the next day is output\n",
        "\n",
        "window_size = 30\n",
        "shuffle_buffer = 50\n",
        "batch_size = 64"
      ],
      "execution_count": 19,
      "outputs": []
    },
    {
      "cell_type": "code",
      "metadata": {
        "id": "q3mKPxrNBp2G",
        "colab_type": "code",
        "colab": {}
      },
      "source": [
        "def windowed_dataset(series, window_size, shuffle_buffer, batch_size):\n",
        "  dataset = tf.data.Dataset.from_tensor_slices(series)\n",
        "  dataset = dataset.window(window_size +1, shift = 1, drop_remainder = True)\n",
        "  dataset = dataset.flat_map(lambda window : window.batch(window_size +1))\n",
        "  dataset = dataset.shuffle(shuffle_buffer)\n",
        "  dataset = dataset.map(lambda window: (window[:-1, :-1], window[-1, -1]))\n",
        "  dataset = dataset.batch(batch_size).prefetch(1)\n",
        "  return dataset"
      ],
      "execution_count": 20,
      "outputs": []
    },
    {
      "cell_type": "code",
      "metadata": {
        "id": "o8PGU9UxEo4f",
        "colab_type": "code",
        "colab": {}
      },
      "source": [
        "dataset = windowed_dataset(points, window_size, shuffle_buffer, batch_size)"
      ],
      "execution_count": 21,
      "outputs": []
    },
    {
      "cell_type": "code",
      "metadata": {
        "id": "-lcQy377E1Ec",
        "colab_type": "code",
        "colab": {
          "base_uri": "https://localhost:8080/",
          "height": 544
        },
        "outputId": "ef882020-d9f2-42d0-889f-dfa762452884"
      },
      "source": [
        "for x, y in dataset:\n",
        "  print(x.shape, y.shape)"
      ],
      "execution_count": 22,
      "outputs": [
        {
          "output_type": "stream",
          "text": [
            "(64, 30, 6) (64,)\n",
            "(64, 30, 6) (64,)\n",
            "(64, 30, 6) (64,)\n",
            "(64, 30, 6) (64,)\n",
            "(64, 30, 6) (64,)\n",
            "(64, 30, 6) (64,)\n",
            "(64, 30, 6) (64,)\n",
            "(64, 30, 6) (64,)\n",
            "(64, 30, 6) (64,)\n",
            "(64, 30, 6) (64,)\n",
            "(64, 30, 6) (64,)\n",
            "(64, 30, 6) (64,)\n",
            "(64, 30, 6) (64,)\n",
            "(64, 30, 6) (64,)\n",
            "(64, 30, 6) (64,)\n",
            "(64, 30, 6) (64,)\n",
            "(64, 30, 6) (64,)\n",
            "(64, 30, 6) (64,)\n",
            "(64, 30, 6) (64,)\n",
            "(64, 30, 6) (64,)\n",
            "(64, 30, 6) (64,)\n",
            "(64, 30, 6) (64,)\n",
            "(64, 30, 6) (64,)\n",
            "(64, 30, 6) (64,)\n",
            "(64, 30, 6) (64,)\n",
            "(64, 30, 6) (64,)\n",
            "(64, 30, 6) (64,)\n",
            "(64, 30, 6) (64,)\n",
            "(64, 30, 6) (64,)\n",
            "(64, 30, 6) (64,)\n",
            "(50, 30, 6) (50,)\n"
          ],
          "name": "stdout"
        }
      ]
    },
    {
      "cell_type": "code",
      "metadata": {
        "id": "fX89nYMccTI6",
        "colab_type": "code",
        "colab": {
          "base_uri": "https://localhost:8080/",
          "height": 493
        },
        "outputId": "4041d33b-b78d-4f70-a090-66dc842888ee"
      },
      "source": [
        "units = 128\n",
        "\n",
        "model = tf.keras.models.Sequential([tf.keras.layers.Conv1D(filters = 128, kernel_size = 11, activation = 'relu',\n",
        "                                                           strides = 1, padding = 'causal', input_shape = [None, 6]),\n",
        "                                    tf.keras.layers.Bidirectional(tf.keras.layers.LSTM(units, return_sequences = True)),\n",
        "                                    tf.keras.layers.Bidirectional(tf.keras.layers.LSTM(units)),\n",
        "                                    tf.keras.layers.Dense(1024, kernel_regularizer=regularizers.l2(0.1)),\n",
        "                                    tf.keras.layers.BatchNormalization(),\n",
        "                                    tf.keras.layers.Activation('relu'),\n",
        "                                    tf.keras.layers.Dense(128, kernel_regularizer=regularizers.l2(0.1)),\n",
        "                                    tf.keras.layers.BatchNormalization(),\n",
        "                                    tf.keras.layers.Activation('relu'),\n",
        "                                    tf.keras.layers.Dense(1)])\n",
        "\n",
        "model.compile(optimizer = 'adam', loss = 'mae', metrics = ['mse', 'mae'])\n",
        "\n",
        "model.summary()\n"
      ],
      "execution_count": 23,
      "outputs": [
        {
          "output_type": "stream",
          "text": [
            "Model: \"sequential\"\n",
            "_________________________________________________________________\n",
            "Layer (type)                 Output Shape              Param #   \n",
            "=================================================================\n",
            "conv1d (Conv1D)              (None, None, 128)         8576      \n",
            "_________________________________________________________________\n",
            "bidirectional (Bidirectional (None, None, 256)         263168    \n",
            "_________________________________________________________________\n",
            "bidirectional_1 (Bidirection (None, 256)               394240    \n",
            "_________________________________________________________________\n",
            "dense (Dense)                (None, 1024)              263168    \n",
            "_________________________________________________________________\n",
            "batch_normalization (BatchNo (None, 1024)              4096      \n",
            "_________________________________________________________________\n",
            "activation (Activation)      (None, 1024)              0         \n",
            "_________________________________________________________________\n",
            "dense_1 (Dense)              (None, 128)               131200    \n",
            "_________________________________________________________________\n",
            "batch_normalization_1 (Batch (None, 128)               512       \n",
            "_________________________________________________________________\n",
            "activation_1 (Activation)    (None, 128)               0         \n",
            "_________________________________________________________________\n",
            "dense_2 (Dense)              (None, 1)                 129       \n",
            "=================================================================\n",
            "Total params: 1,065,089\n",
            "Trainable params: 1,062,785\n",
            "Non-trainable params: 2,304\n",
            "_________________________________________________________________\n"
          ],
          "name": "stdout"
        }
      ]
    },
    {
      "cell_type": "code",
      "metadata": {
        "id": "vioBeRFms1X9",
        "colab_type": "code",
        "colab": {}
      },
      "source": [
        "\n",
        "lr_reduce = ReduceLROnPlateau(monitor = 'loss',\n",
        "                              min_lr = 0.0000001,\n",
        "                              patience = 5,\n",
        "                              verbose = 1,\n",
        "                              factor = 0.1)"
      ],
      "execution_count": 24,
      "outputs": []
    },
    {
      "cell_type": "code",
      "metadata": {
        "id": "F1kcYsN8cYLx",
        "colab_type": "code",
        "colab": {
          "base_uri": "https://localhost:8080/",
          "height": 1000
        },
        "outputId": "f0ec19a1-9295-4a8a-dff2-d27df2d3e985"
      },
      "source": [
        "history = model.fit(dataset, \n",
        "                    epochs = 100, \n",
        "                    verbose = 1, \n",
        "                    callbacks = [lr_reduce])"
      ],
      "execution_count": 25,
      "outputs": [
        {
          "output_type": "stream",
          "text": [
            "Epoch 1/100\n",
            "31/31 [==============================] - 11s 371ms/step - loss: 41.4367 - mse: 0.6972 - mae: 0.4732 - lr: 0.0010\n",
            "Epoch 2/100\n",
            "31/31 [==============================] - 9s 293ms/step - loss: 12.2825 - mse: 0.2015 - mae: 0.3282 - lr: 0.0010\n",
            "Epoch 3/100\n",
            "31/31 [==============================] - 9s 295ms/step - loss: 3.3899 - mse: 0.0797 - mae: 0.2184 - lr: 0.0010\n",
            "Epoch 4/100\n",
            "31/31 [==============================] - 9s 293ms/step - loss: 1.1769 - mse: 0.0802 - mae: 0.2097 - lr: 0.0010\n",
            "Epoch 5/100\n",
            "31/31 [==============================] - 9s 297ms/step - loss: 0.5545 - mse: 0.0546 - mae: 0.1803 - lr: 0.0010\n",
            "Epoch 6/100\n",
            "31/31 [==============================] - 9s 296ms/step - loss: 0.3432 - mse: 0.0416 - mae: 0.1619 - lr: 0.0010\n",
            "Epoch 7/100\n",
            "31/31 [==============================] - 9s 295ms/step - loss: 0.3113 - mse: 0.0830 - mae: 0.2109 - lr: 0.0010\n",
            "Epoch 8/100\n",
            "31/31 [==============================] - 9s 294ms/step - loss: 0.2760 - mse: 0.0444 - mae: 0.1438 - lr: 0.0010\n",
            "Epoch 9/100\n",
            "31/31 [==============================] - 9s 298ms/step - loss: 0.2395 - mse: 0.0330 - mae: 0.1404 - lr: 0.0010\n",
            "Epoch 10/100\n",
            "31/31 [==============================] - 9s 296ms/step - loss: 0.2625 - mse: 0.0587 - mae: 0.1861 - lr: 0.0010\n",
            "Epoch 11/100\n",
            "31/31 [==============================] - 9s 298ms/step - loss: 0.1697 - mse: 0.0198 - mae: 0.0929 - lr: 0.0010\n",
            "Epoch 12/100\n",
            "31/31 [==============================] - 9s 296ms/step - loss: 0.1819 - mse: 0.0348 - mae: 0.1401 - lr: 0.0010\n",
            "Epoch 13/100\n",
            "31/31 [==============================] - 9s 296ms/step - loss: 0.1887 - mse: 0.0347 - mae: 0.1626 - lr: 0.0010\n",
            "Epoch 14/100\n",
            "31/31 [==============================] - 9s 298ms/step - loss: 0.1247 - mse: 0.0206 - mae: 0.1070 - lr: 0.0010\n",
            "Epoch 15/100\n",
            "31/31 [==============================] - 9s 295ms/step - loss: 0.1060 - mse: 0.0131 - mae: 0.0891 - lr: 0.0010\n",
            "Epoch 16/100\n",
            "31/31 [==============================] - 9s 296ms/step - loss: 0.1634 - mse: 0.0288 - mae: 0.1445 - lr: 0.0010\n",
            "Epoch 17/100\n",
            "31/31 [==============================] - 9s 294ms/step - loss: 0.0973 - mse: 0.0108 - mae: 0.0788 - lr: 0.0010\n",
            "Epoch 18/100\n",
            "31/31 [==============================] - 9s 296ms/step - loss: 0.0869 - mse: 0.0086 - mae: 0.0704 - lr: 0.0010\n",
            "Epoch 19/100\n",
            "31/31 [==============================] - 9s 300ms/step - loss: 0.1117 - mse: 0.0142 - mae: 0.0986 - lr: 0.0010\n",
            "Epoch 20/100\n",
            "31/31 [==============================] - 9s 296ms/step - loss: 0.0899 - mse: 0.0097 - mae: 0.0740 - lr: 0.0010\n",
            "Epoch 21/100\n",
            "31/31 [==============================] - 9s 298ms/step - loss: 0.0713 - mse: 0.0050 - mae: 0.0572 - lr: 0.0010\n",
            "Epoch 22/100\n",
            "31/31 [==============================] - 9s 296ms/step - loss: 0.0877 - mse: 0.0091 - mae: 0.0752 - lr: 0.0010\n",
            "Epoch 23/100\n",
            "31/31 [==============================] - 9s 297ms/step - loss: 0.1122 - mse: 0.0200 - mae: 0.0985 - lr: 0.0010\n",
            "Epoch 24/100\n",
            "31/31 [==============================] - 9s 294ms/step - loss: 0.0819 - mse: 0.0081 - mae: 0.0676 - lr: 0.0010\n",
            "Epoch 25/100\n",
            "31/31 [==============================] - 10s 309ms/step - loss: 0.0889 - mse: 0.0100 - mae: 0.0767 - lr: 0.0010\n",
            "Epoch 26/100\n",
            "31/31 [==============================] - ETA: 0s - loss: 0.0965 - mse: 0.0125 - mae: 0.0858\n",
            "Epoch 00026: ReduceLROnPlateau reducing learning rate to 0.00010000000474974513.\n",
            "31/31 [==============================] - 10s 307ms/step - loss: 0.0965 - mse: 0.0125 - mae: 0.0858 - lr: 0.0010\n",
            "Epoch 27/100\n",
            "31/31 [==============================] - 9s 294ms/step - loss: 0.0887 - mse: 0.0088 - mae: 0.0778 - lr: 1.0000e-04\n",
            "Epoch 28/100\n",
            "31/31 [==============================] - 9s 296ms/step - loss: 0.0782 - mse: 0.0069 - mae: 0.0678 - lr: 1.0000e-04\n",
            "Epoch 29/100\n",
            "31/31 [==============================] - 9s 297ms/step - loss: 0.0657 - mse: 0.0052 - mae: 0.0555 - lr: 1.0000e-04\n",
            "Epoch 30/100\n",
            "31/31 [==============================] - 9s 297ms/step - loss: 0.0582 - mse: 0.0043 - mae: 0.0479 - lr: 1.0000e-04\n",
            "Epoch 31/100\n",
            "31/31 [==============================] - 9s 297ms/step - loss: 0.0552 - mse: 0.0037 - mae: 0.0450 - lr: 1.0000e-04\n",
            "Epoch 32/100\n",
            "31/31 [==============================] - 9s 296ms/step - loss: 0.0506 - mse: 0.0031 - mae: 0.0404 - lr: 1.0000e-04\n",
            "Epoch 33/100\n",
            "31/31 [==============================] - 9s 296ms/step - loss: 0.0496 - mse: 0.0030 - mae: 0.0393 - lr: 1.0000e-04\n",
            "Epoch 34/100\n",
            "31/31 [==============================] - 9s 297ms/step - loss: 0.0489 - mse: 0.0029 - mae: 0.0387 - lr: 1.0000e-04\n",
            "Epoch 35/100\n",
            "31/31 [==============================] - 9s 297ms/step - loss: 0.0477 - mse: 0.0026 - mae: 0.0374 - lr: 1.0000e-04\n",
            "Epoch 36/100\n",
            "31/31 [==============================] - 9s 296ms/step - loss: 0.0465 - mse: 0.0025 - mae: 0.0363 - lr: 1.0000e-04\n",
            "Epoch 37/100\n",
            "31/31 [==============================] - 9s 297ms/step - loss: 0.0477 - mse: 0.0027 - mae: 0.0375 - lr: 1.0000e-04\n",
            "Epoch 38/100\n",
            "31/31 [==============================] - 9s 297ms/step - loss: 0.0459 - mse: 0.0024 - mae: 0.0356 - lr: 1.0000e-04\n",
            "Epoch 39/100\n",
            "31/31 [==============================] - 9s 298ms/step - loss: 0.0448 - mse: 0.0023 - mae: 0.0344 - lr: 1.0000e-04\n",
            "Epoch 40/100\n",
            "31/31 [==============================] - 9s 297ms/step - loss: 0.0439 - mse: 0.0023 - mae: 0.0337 - lr: 1.0000e-04\n",
            "Epoch 41/100\n",
            "31/31 [==============================] - 9s 299ms/step - loss: 0.0417 - mse: 0.0020 - mae: 0.0314 - lr: 1.0000e-04\n",
            "Epoch 42/100\n",
            "31/31 [==============================] - 9s 296ms/step - loss: 0.0432 - mse: 0.0021 - mae: 0.0331 - lr: 1.0000e-04\n",
            "Epoch 43/100\n",
            "31/31 [==============================] - 9s 294ms/step - loss: 0.0432 - mse: 0.0020 - mae: 0.0330 - lr: 1.0000e-04\n",
            "Epoch 44/100\n",
            "31/31 [==============================] - 9s 295ms/step - loss: 0.0427 - mse: 0.0022 - mae: 0.0327 - lr: 1.0000e-04\n",
            "Epoch 45/100\n",
            "31/31 [==============================] - 9s 296ms/step - loss: 0.0431 - mse: 0.0021 - mae: 0.0329 - lr: 1.0000e-04\n",
            "Epoch 46/100\n",
            "31/31 [==============================] - 9s 296ms/step - loss: 0.0394 - mse: 0.0017 - mae: 0.0295 - lr: 1.0000e-04\n",
            "Epoch 47/100\n",
            "31/31 [==============================] - 9s 297ms/step - loss: 0.0427 - mse: 0.0019 - mae: 0.0327 - lr: 1.0000e-04\n",
            "Epoch 48/100\n",
            "31/31 [==============================] - 9s 296ms/step - loss: 0.0400 - mse: 0.0017 - mae: 0.0303 - lr: 1.0000e-04\n",
            "Epoch 49/100\n",
            "31/31 [==============================] - 9s 293ms/step - loss: 0.0427 - mse: 0.0020 - mae: 0.0328 - lr: 1.0000e-04\n",
            "Epoch 50/100\n",
            "31/31 [==============================] - 9s 298ms/step - loss: 0.0411 - mse: 0.0017 - mae: 0.0315 - lr: 1.0000e-04\n",
            "Epoch 51/100\n",
            "31/31 [==============================] - ETA: 0s - loss: 0.0409 - mse: 0.0018 - mae: 0.0312\n",
            "Epoch 00051: ReduceLROnPlateau reducing learning rate to 1.0000000474974514e-05.\n",
            "31/31 [==============================] - 9s 303ms/step - loss: 0.0409 - mse: 0.0018 - mae: 0.0312 - lr: 1.0000e-04\n",
            "Epoch 52/100\n",
            "31/31 [==============================] - 9s 298ms/step - loss: 0.0384 - mse: 0.0015 - mae: 0.0290 - lr: 1.0000e-05\n",
            "Epoch 53/100\n",
            "31/31 [==============================] - 9s 298ms/step - loss: 0.0343 - mse: 0.0012 - mae: 0.0249 - lr: 1.0000e-05\n",
            "Epoch 54/100\n",
            "31/31 [==============================] - 9s 295ms/step - loss: 0.0360 - mse: 0.0014 - mae: 0.0265 - lr: 1.0000e-05\n",
            "Epoch 55/100\n",
            "31/31 [==============================] - 9s 297ms/step - loss: 0.0358 - mse: 0.0013 - mae: 0.0263 - lr: 1.0000e-05\n",
            "Epoch 56/100\n",
            "31/31 [==============================] - 9s 295ms/step - loss: 0.0375 - mse: 0.0015 - mae: 0.0279 - lr: 1.0000e-05\n",
            "Epoch 57/100\n",
            "31/31 [==============================] - 9s 295ms/step - loss: 0.0373 - mse: 0.0015 - mae: 0.0278 - lr: 1.0000e-05\n",
            "Epoch 58/100\n",
            "31/31 [==============================] - ETA: 0s - loss: 0.0352 - mse: 0.0013 - mae: 0.0257\n",
            "Epoch 00058: ReduceLROnPlateau reducing learning rate to 1.0000000656873453e-06.\n",
            "31/31 [==============================] - 9s 296ms/step - loss: 0.0352 - mse: 0.0013 - mae: 0.0257 - lr: 1.0000e-05\n",
            "Epoch 59/100\n",
            "31/31 [==============================] - 9s 294ms/step - loss: 0.0365 - mse: 0.0015 - mae: 0.0270 - lr: 1.0000e-06\n",
            "Epoch 60/100\n",
            "31/31 [==============================] - 9s 295ms/step - loss: 0.0370 - mse: 0.0014 - mae: 0.0275 - lr: 1.0000e-06\n",
            "Epoch 61/100\n",
            "31/31 [==============================] - 9s 296ms/step - loss: 0.0348 - mse: 0.0013 - mae: 0.0253 - lr: 1.0000e-06\n",
            "Epoch 62/100\n",
            "31/31 [==============================] - 9s 294ms/step - loss: 0.0367 - mse: 0.0016 - mae: 0.0272 - lr: 1.0000e-06\n",
            "Epoch 63/100\n",
            "31/31 [==============================] - ETA: 0s - loss: 0.0359 - mse: 0.0013 - mae: 0.0264\n",
            "Epoch 00063: ReduceLROnPlateau reducing learning rate to 1.0000001111620805e-07.\n",
            "31/31 [==============================] - 9s 294ms/step - loss: 0.0359 - mse: 0.0013 - mae: 0.0264 - lr: 1.0000e-06\n",
            "Epoch 64/100\n",
            "31/31 [==============================] - 15s 500ms/step - loss: 0.0360 - mse: 0.0014 - mae: 0.0265 - lr: 1.0000e-07\n",
            "Epoch 65/100\n",
            "31/31 [==============================] - 9s 294ms/step - loss: 0.0355 - mse: 0.0014 - mae: 0.0260 - lr: 1.0000e-07\n",
            "Epoch 66/100\n",
            "31/31 [==============================] - 9s 296ms/step - loss: 0.0350 - mse: 0.0014 - mae: 0.0255 - lr: 1.0000e-07\n",
            "Epoch 67/100\n",
            "31/31 [==============================] - 9s 292ms/step - loss: 0.0342 - mse: 0.0012 - mae: 0.0247 - lr: 1.0000e-07\n",
            "Epoch 68/100\n",
            "31/31 [==============================] - ETA: 0s - loss: 0.0362 - mse: 0.0014 - mae: 0.0267\n",
            "Epoch 00068: ReduceLROnPlateau reducing learning rate to 1e-07.\n",
            "31/31 [==============================] - 9s 293ms/step - loss: 0.0362 - mse: 0.0014 - mae: 0.0267 - lr: 1.0000e-07\n",
            "Epoch 69/100\n",
            "31/31 [==============================] - 9s 296ms/step - loss: 0.0371 - mse: 0.0015 - mae: 0.0276 - lr: 1.0000e-07\n",
            "Epoch 70/100\n",
            "31/31 [==============================] - 9s 297ms/step - loss: 0.0349 - mse: 0.0013 - mae: 0.0254 - lr: 1.0000e-07\n",
            "Epoch 71/100\n",
            "31/31 [==============================] - 9s 294ms/step - loss: 0.0346 - mse: 0.0013 - mae: 0.0251 - lr: 1.0000e-07\n",
            "Epoch 72/100\n",
            "31/31 [==============================] - 9s 298ms/step - loss: 0.0355 - mse: 0.0013 - mae: 0.0260 - lr: 1.0000e-07\n",
            "Epoch 73/100\n",
            "31/31 [==============================] - 9s 292ms/step - loss: 0.0341 - mse: 0.0012 - mae: 0.0246 - lr: 1.0000e-07\n",
            "Epoch 74/100\n",
            "31/31 [==============================] - 9s 293ms/step - loss: 0.0379 - mse: 0.0016 - mae: 0.0284 - lr: 1.0000e-07\n",
            "Epoch 75/100\n",
            "31/31 [==============================] - 9s 298ms/step - loss: 0.0369 - mse: 0.0015 - mae: 0.0274 - lr: 1.0000e-07\n",
            "Epoch 76/100\n",
            "31/31 [==============================] - 9s 297ms/step - loss: 0.0384 - mse: 0.0017 - mae: 0.0289 - lr: 1.0000e-07\n",
            "Epoch 77/100\n",
            "31/31 [==============================] - 9s 298ms/step - loss: 0.0354 - mse: 0.0013 - mae: 0.0259 - lr: 1.0000e-07\n",
            "Epoch 78/100\n",
            "31/31 [==============================] - ETA: 0s - loss: 0.0374 - mse: 0.0015 - mae: 0.0279\n",
            "Epoch 00078: ReduceLROnPlateau reducing learning rate to 1e-07.\n",
            "31/31 [==============================] - 9s 295ms/step - loss: 0.0374 - mse: 0.0015 - mae: 0.0279 - lr: 1.0000e-07\n",
            "Epoch 79/100\n",
            "31/31 [==============================] - 9s 292ms/step - loss: 0.0372 - mse: 0.0016 - mae: 0.0277 - lr: 1.0000e-07\n",
            "Epoch 80/100\n",
            "31/31 [==============================] - 9s 294ms/step - loss: 0.0365 - mse: 0.0014 - mae: 0.0270 - lr: 1.0000e-07\n",
            "Epoch 81/100\n",
            "31/31 [==============================] - 9s 295ms/step - loss: 0.0351 - mse: 0.0013 - mae: 0.0256 - lr: 1.0000e-07\n",
            "Epoch 82/100\n",
            "31/31 [==============================] - 9s 296ms/step - loss: 0.0345 - mse: 0.0013 - mae: 0.0250 - lr: 1.0000e-07\n",
            "Epoch 83/100\n",
            "31/31 [==============================] - ETA: 0s - loss: 0.0359 - mse: 0.0014 - mae: 0.0264\n",
            "Epoch 00083: ReduceLROnPlateau reducing learning rate to 1e-07.\n",
            "31/31 [==============================] - 9s 301ms/step - loss: 0.0359 - mse: 0.0014 - mae: 0.0264 - lr: 1.0000e-07\n",
            "Epoch 84/100\n",
            "31/31 [==============================] - 9s 296ms/step - loss: 0.0368 - mse: 0.0015 - mae: 0.0273 - lr: 1.0000e-07\n",
            "Epoch 85/100\n",
            "31/31 [==============================] - 9s 295ms/step - loss: 0.0367 - mse: 0.0015 - mae: 0.0272 - lr: 1.0000e-07\n",
            "Epoch 86/100\n",
            "31/31 [==============================] - 9s 296ms/step - loss: 0.0373 - mse: 0.0016 - mae: 0.0278 - lr: 1.0000e-07\n",
            "Epoch 87/100\n",
            "31/31 [==============================] - 9s 295ms/step - loss: 0.0364 - mse: 0.0015 - mae: 0.0268 - lr: 1.0000e-07\n",
            "Epoch 88/100\n",
            "31/31 [==============================] - ETA: 0s - loss: 0.0354 - mse: 0.0014 - mae: 0.0259\n",
            "Epoch 00088: ReduceLROnPlateau reducing learning rate to 1e-07.\n",
            "31/31 [==============================] - 9s 296ms/step - loss: 0.0354 - mse: 0.0014 - mae: 0.0259 - lr: 1.0000e-07\n",
            "Epoch 89/100\n",
            "31/31 [==============================] - 9s 299ms/step - loss: 0.0360 - mse: 0.0013 - mae: 0.0265 - lr: 1.0000e-07\n",
            "Epoch 90/100\n",
            "31/31 [==============================] - 9s 298ms/step - loss: 0.0351 - mse: 0.0013 - mae: 0.0256 - lr: 1.0000e-07\n",
            "Epoch 91/100\n",
            "31/31 [==============================] - 9s 295ms/step - loss: 0.0352 - mse: 0.0013 - mae: 0.0257 - lr: 1.0000e-07\n",
            "Epoch 92/100\n",
            "31/31 [==============================] - 9s 297ms/step - loss: 0.0363 - mse: 0.0015 - mae: 0.0268 - lr: 1.0000e-07\n",
            "Epoch 93/100\n",
            "31/31 [==============================] - ETA: 0s - loss: 0.0369 - mse: 0.0015 - mae: 0.0274\n",
            "Epoch 00093: ReduceLROnPlateau reducing learning rate to 1e-07.\n",
            "31/31 [==============================] - 9s 293ms/step - loss: 0.0369 - mse: 0.0015 - mae: 0.0274 - lr: 1.0000e-07\n",
            "Epoch 94/100\n",
            "31/31 [==============================] - 9s 297ms/step - loss: 0.0375 - mse: 0.0015 - mae: 0.0280 - lr: 1.0000e-07\n",
            "Epoch 95/100\n",
            "31/31 [==============================] - 9s 297ms/step - loss: 0.0340 - mse: 0.0012 - mae: 0.0245 - lr: 1.0000e-07\n",
            "Epoch 96/100\n",
            "31/31 [==============================] - 9s 294ms/step - loss: 0.0349 - mse: 0.0013 - mae: 0.0254 - lr: 1.0000e-07\n",
            "Epoch 97/100\n",
            "31/31 [==============================] - 9s 294ms/step - loss: 0.0376 - mse: 0.0017 - mae: 0.0281 - lr: 1.0000e-07\n",
            "Epoch 98/100\n",
            "31/31 [==============================] - 9s 294ms/step - loss: 0.0351 - mse: 0.0013 - mae: 0.0256 - lr: 1.0000e-07\n",
            "Epoch 99/100\n",
            "31/31 [==============================] - 9s 296ms/step - loss: 0.0352 - mse: 0.0013 - mae: 0.0257 - lr: 1.0000e-07\n",
            "Epoch 100/100\n",
            "31/31 [==============================] - ETA: 0s - loss: 0.0356 - mse: 0.0013 - mae: 0.0261\n",
            "Epoch 00100: ReduceLROnPlateau reducing learning rate to 1e-07.\n",
            "31/31 [==============================] - 9s 296ms/step - loss: 0.0356 - mse: 0.0013 - mae: 0.0261 - lr: 1.0000e-07\n"
          ],
          "name": "stdout"
        }
      ]
    },
    {
      "cell_type": "code",
      "metadata": {
        "id": "FIp-GBS9rCfV",
        "colab_type": "code",
        "colab": {
          "base_uri": "https://localhost:8080/",
          "height": 545
        },
        "outputId": "071cec4d-08d1-4d25-a411-b1208291f1db"
      },
      "source": [
        "\n",
        "plt.plot(history.history['mse'])\n",
        "plt.title('MSE')\n",
        "plt.show()\n",
        "\n",
        "plt.plot(history.history['mae'])\n",
        "plt.title('MAE')\n",
        "plt.show()"
      ],
      "execution_count": 24,
      "outputs": [
        {
          "output_type": "display_data",
          "data": {
            "image/png": "[encoded data removed]",
            "text/plain": [
              "<Figure size 432x288 with 1 Axes>"
            ]
          },
          "metadata": {
            "tags": [],
            "needs_background": "light"
          }
        },
        {
          "output_type": "display_data",
          "data": {
            "image/png": "[encoded data removed]",
            "text/plain": [
              "<Figure size 432x288 with 1 Axes>"
            ]
          },
          "metadata": {
            "tags": [],
            "needs_background": "light"
          }
        }
      ]
    },
    {
      "cell_type": "code",
      "metadata": {
        "id": "lidfnhCMvXkH",
        "colab_type": "code",
        "colab": {
          "base_uri": "https://localhost:8080/",
          "height": 51
        },
        "outputId": "90d411c0-076c-47b1-9818-c9db8c54a94c"
      },
      "source": [
        "def forecast(model, series, window_size, batch_size):\n",
        "  forecast = tf.data.Dataset.from_tensor_slices(series)\n",
        "  forecast = forecast.window(window_size, shift = 1, drop_remainder = True)\n",
        "  forecast = forecast.flat_map(lambda window: window.batch(window_size))\n",
        "  forecast = forecast.batch(batch_size).prefetch(1)\n",
        "  forecast = model.predict(forecast)\n",
        "  return forecast\n",
        "\n",
        "\n",
        "\n",
        "forecast = forecast(model, points[:, :-1], window_size, batch_size)\n",
        "print(forecast.shape)\n",
        "val_forecast = forecast[split-window_size: -1]\n",
        "\n",
        "print(val_forecast.shape)"
      ],
      "execution_count": 26,
      "outputs": [
        {
          "output_type": "stream",
          "text": [
            "(8890, 1)\n",
            "(60, 1)\n"
          ],
          "name": "stdout"
        }
      ]
    },
    {
      "cell_type": "code",
      "metadata": {
        "id": "z1zxsIUU07OC",
        "colab_type": "code",
        "colab": {
          "base_uri": "https://localhost:8080/",
          "height": 265
        },
        "outputId": "b8f3d3a1-acc1-4847-a1ed-8fe8b4305eba"
      },
      "source": [
        "plt.plot(val_forecast, label = 'Forecast')\n",
        "plt.plot(val_points[:,-1], label = 'Real')\n",
        "plt.legend(loc = 'best')\n",
        "plt.show()"
      ],
      "execution_count": 29,
      "outputs": [
        {
          "output_type": "display_data",
          "data": {
            "image/png": "[encoded data removed]",
            "text/plain": [
              "<Figure size 432x288 with 1 Axes>"
            ]
          },
          "metadata": {
            "tags": [],
            "needs_background": "light"
          }
        }
      ]
    },
    {
      "cell_type": "code",
      "metadata": {
        "id": "8JpSSTFB2bow",
        "colab_type": "code",
        "colab": {}
      },
      "source": [
        ""
      ],
      "execution_count": null,
      "outputs": []
    }
  ]
}